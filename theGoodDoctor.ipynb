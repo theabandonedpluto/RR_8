{
 "cells": [
  {
   "cell_type": "markdown",
   "metadata": {},
   "source": [
    "<div style=\"flex: 1; padding: 10px; text-align: center;\">\n",
    "<h2><b>The Good Doctor Series</b></h2>\n",
    "</div>"
   ]
  },
  {
   "cell_type": "markdown",
   "metadata": {},
   "source": [
    "<div style=\"display: flex; align-items: center; justify-content: center;\">\n",
    "    <div style=\"flex: 1; padding: 10px;\">\n",
    "        <img src=\"8112007.3.jpg\" alt=\"Descriptive Text\" style=\"width: 110%;\"/>\n",
    "    </div>\n",
    "    <div style=\"flex: 1; padding: 10px; text-align: justify;\">\n",
    "    <h3><b>Description</b></h3>\n",
    "        <p><b> <i>The Good Doctor </i></b>is an American medical drama television series remake of the 2013 South Korean series of the same name. The series stars Freddie Highmore as Shaun Murphy, a young autistic surgical resident at the fictional San Jose St. Bonaventure Hospital. Christina Chang, Richard Schiff, Will Yun Lee, Fiona Gubelmann, Paige Spara, Noah Galvin and Bria Samoné Henderson also star in the show. Nicholas Gonzalez, Antonia Thomas, Chuku Modu, Beau Garrett, Hill Harper, Tamlyn Tomita, Jasika Nicole, Osvaldo Benavides and Brandon Larracuente used to also star or had recurring roles in the show, but their characters were written out of the storyline as the series progressed. Modu, however, reprised his role in the sixth season and became a series regular once again in the seventh season.</p>\n",
    "        <p> Actor Daniel Dae Kim noticed the original series and bought the rights for his production company. He began adapting the series and, in 2015, eventually shopped it to CBS Television Studios. CBS decided against creating a pilot, but because Kim felt so strongly about the series, he bought back the rights from CBS. Eventually, Sony Pictures Television and Kim worked out a deal and brought on David Shore, creator of the Fox medical drama House, to develop the series.[1] The series received a put pilot commitment at ABC after a previous attempted series did not move forward at CBS Television Studios in 2015; The Good Doctor was ordered to series in May 2017. On October 3, 2017, ABC picked up the series for a full season of 18 episodes. The series is primarily filmed in Vancouver, British Columbia. David Shore serves as showrunner and Daniel Dae Kim is an executive producer for the show. The show is produced by Sony Pictures Television and ABC Signature, in association with production companies Shore Z Productions, 3AD, and Entermedia.</p>\n",
    "        <p>The series debuted on September 25, 2017. The Good Doctor has received generally mixed reviews from critics, who have praised Highmore's performance but criticized the series' storylines. In April 2023, the series was renewed for a seventh season and premiered on February 20, 2024. It was later announced to be the final season.</p>\n",
    "    <h3><b>Premise</b></h3>\n",
    "        <p>The series follows Shaun Murphy, a young autistic surgeon from the small city of Casper, Wyoming, where he had a troubled past. He relocates to San Jose, California, to work at the prestigious San Jose St. Bonaventure Hospital.[2]</p>\n",
    "    </div>\n",
    "</div>\n"
   ]
  },
  {
   "cell_type": "markdown",
   "metadata": {},
   "source": [
    "<h3><b>Episodes</b></h3>\n",
    "\n",
    "<p> This table is generate based on the information from <a href\"https://en.wikipedia.org/wiki/The_Good_Doctor_(American_TV_series)\">wikipedia</a></p>"
   ]
  },
  {
   "cell_type": "code",
   "execution_count": 1,
   "metadata": {},
   "outputs": [
    {
     "data": {
      "text/html": [
       "<div>\n",
       "<style scoped>\n",
       "    .dataframe tbody tr th:only-of-type {\n",
       "        vertical-align: middle;\n",
       "    }\n",
       "\n",
       "    .dataframe tbody tr th {\n",
       "        vertical-align: top;\n",
       "    }\n",
       "\n",
       "    .dataframe thead th {\n",
       "        text-align: right;\n",
       "    }\n",
       "</style>\n",
       "<table border=\"1\" class=\"dataframe\">\n",
       "  <thead>\n",
       "    <tr style=\"text-align: right;\">\n",
       "      <th></th>\n",
       "      <th>Season</th>\n",
       "      <th>Episodes #</th>\n",
       "      <th>First Aired</th>\n",
       "      <th>Last Aired</th>\n",
       "      <th>Rank</th>\n",
       "      <th>Avg Viewership (in millions)</th>\n",
       "    </tr>\n",
       "  </thead>\n",
       "  <tbody>\n",
       "    <tr>\n",
       "      <th>0</th>\n",
       "      <td>1</td>\n",
       "      <td>18</td>\n",
       "      <td>2017-09-25</td>\n",
       "      <td>2018-03-26</td>\n",
       "      <td>7</td>\n",
       "      <td>15.61</td>\n",
       "    </tr>\n",
       "    <tr>\n",
       "      <th>1</th>\n",
       "      <td>2</td>\n",
       "      <td>18</td>\n",
       "      <td>2018-09-14</td>\n",
       "      <td>2019-03-11</td>\n",
       "      <td>12</td>\n",
       "      <td>12.20</td>\n",
       "    </tr>\n",
       "    <tr>\n",
       "      <th>2</th>\n",
       "      <td>3</td>\n",
       "      <td>20</td>\n",
       "      <td>2019-09-23</td>\n",
       "      <td>2020-03-30</td>\n",
       "      <td>11</td>\n",
       "      <td>10.82</td>\n",
       "    </tr>\n",
       "    <tr>\n",
       "      <th>3</th>\n",
       "      <td>4</td>\n",
       "      <td>20</td>\n",
       "      <td>2020-11-02</td>\n",
       "      <td>2021-06-07</td>\n",
       "      <td>19</td>\n",
       "      <td>8.16</td>\n",
       "    </tr>\n",
       "    <tr>\n",
       "      <th>4</th>\n",
       "      <td>5</td>\n",
       "      <td>18</td>\n",
       "      <td>2021-09-27</td>\n",
       "      <td>2022-05-16</td>\n",
       "      <td>27</td>\n",
       "      <td>7.05</td>\n",
       "    </tr>\n",
       "    <tr>\n",
       "      <th>5</th>\n",
       "      <td>6</td>\n",
       "      <td>22</td>\n",
       "      <td>2022-10-03</td>\n",
       "      <td>2023-05-01</td>\n",
       "      <td>30</td>\n",
       "      <td>6.24</td>\n",
       "    </tr>\n",
       "    <tr>\n",
       "      <th>6</th>\n",
       "      <td>7</td>\n",
       "      <td>10</td>\n",
       "      <td>2024-02-20</td>\n",
       "      <td>2024-04-18</td>\n",
       "      <td>25</td>\n",
       "      <td>8.10</td>\n",
       "    </tr>\n",
       "  </tbody>\n",
       "</table>\n",
       "</div>"
      ],
      "text/plain": [
       "   Season  Episodes # First Aired Last Aired  Rank   \n",
       "0       1          18  2017-09-25 2018-03-26     7  \\\n",
       "1       2          18  2018-09-14 2019-03-11    12   \n",
       "2       3          20  2019-09-23 2020-03-30    11   \n",
       "3       4          20  2020-11-02 2021-06-07    19   \n",
       "4       5          18  2021-09-27 2022-05-16    27   \n",
       "5       6          22  2022-10-03 2023-05-01    30   \n",
       "6       7          10  2024-02-20 2024-04-18    25   \n",
       "\n",
       "   Avg Viewership (in millions)  \n",
       "0                         15.61  \n",
       "1                         12.20  \n",
       "2                         10.82  \n",
       "3                          8.16  \n",
       "4                          7.05  \n",
       "5                          6.24  \n",
       "6                          8.10  "
      ]
     },
     "execution_count": 1,
     "metadata": {},
     "output_type": "execute_result"
    }
   ],
   "source": [
    "import pandas as pd\n",
    "import numpy as np\n",
    "episodes = {\n",
    "    'Season': [1, 2, 3, 4, 5, 6, 7],\n",
    "    'Episodes #': [18, 18, 20, 20, 18, 22, 10],\n",
    "    'First Aired' : ['2017/09/25','2018/09/14','2019/09/23','2020/11/02','2021/09/27','2022/10/03','2024/02/20'],\n",
    "    'Last Aired' : ['2018/03/26','2019/03/11','2020/03/30','2021/06/07','2022/05/16','2023/05/01','2024/04/18'],\n",
    "    'Rank' : [7,12,11,19,27,30,25],\n",
    "    'Avg Viewership (in millions)' :[15.61, 12.20, 10.82, 8.16, 7.05, 6.24, 8.10]\n",
    "}\n",
    "\n",
    "episodes['First Aired'] = pd.to_datetime(episodes['First Aired'])\n",
    "episodes['Last Aired'] = pd.to_datetime(episodes['Last Aired'])\n",
    "episodes = pd.DataFrame(episodes)\n",
    "episodes"
   ]
  },
  {
   "cell_type": "markdown",
   "metadata": {},
   "source": [
    "Basic Stastiscis from the <b>Average Viewership (in millions)</b>"
   ]
  },
  {
   "cell_type": "code",
   "execution_count": 2,
   "metadata": {},
   "outputs": [
    {
     "data": {
      "text/html": [
       "<div>\n",
       "<style scoped>\n",
       "    .dataframe tbody tr th:only-of-type {\n",
       "        vertical-align: middle;\n",
       "    }\n",
       "\n",
       "    .dataframe tbody tr th {\n",
       "        vertical-align: top;\n",
       "    }\n",
       "\n",
       "    .dataframe thead th {\n",
       "        text-align: right;\n",
       "    }\n",
       "</style>\n",
       "<table border=\"1\" class=\"dataframe\">\n",
       "  <thead>\n",
       "    <tr style=\"text-align: right;\">\n",
       "      <th></th>\n",
       "      <th>Avg Viewership (in millions)</th>\n",
       "    </tr>\n",
       "  </thead>\n",
       "  <tbody>\n",
       "    <tr>\n",
       "      <th>count</th>\n",
       "      <td>7.00</td>\n",
       "    </tr>\n",
       "    <tr>\n",
       "      <th>mean</th>\n",
       "      <td>9.74</td>\n",
       "    </tr>\n",
       "    <tr>\n",
       "      <th>std</th>\n",
       "      <td>3.33</td>\n",
       "    </tr>\n",
       "    <tr>\n",
       "      <th>min</th>\n",
       "      <td>6.24</td>\n",
       "    </tr>\n",
       "    <tr>\n",
       "      <th>25%</th>\n",
       "      <td>7.57</td>\n",
       "    </tr>\n",
       "    <tr>\n",
       "      <th>50%</th>\n",
       "      <td>8.16</td>\n",
       "    </tr>\n",
       "    <tr>\n",
       "      <th>75%</th>\n",
       "      <td>11.51</td>\n",
       "    </tr>\n",
       "    <tr>\n",
       "      <th>max</th>\n",
       "      <td>15.61</td>\n",
       "    </tr>\n",
       "  </tbody>\n",
       "</table>\n",
       "</div>"
      ],
      "text/plain": [
       "       Avg Viewership (in millions)\n",
       "count                          7.00\n",
       "mean                           9.74\n",
       "std                            3.33\n",
       "min                            6.24\n",
       "25%                            7.57\n",
       "50%                            8.16\n",
       "75%                           11.51\n",
       "max                           15.61"
      ]
     },
     "execution_count": 2,
     "metadata": {},
     "output_type": "execute_result"
    }
   ],
   "source": [
    "round(episodes[['Avg Viewership (in millions)']].describe(),2)"
   ]
  },
  {
   "cell_type": "markdown",
   "metadata": {},
   "source": [
    "Basic Graph from the <b>Average Viewership (in millions)</b> from the First Aired Period"
   ]
  },
  {
   "cell_type": "code",
   "execution_count": 4,
   "metadata": {},
   "outputs": [
    {
     "data": {
      "image/png": "[encoded data removed]",
      "text/plain": [
       "<Figure size 1200x600 with 1 Axes>"
      ]
     },
     "metadata": {},
     "output_type": "display_data"
    }
   ],
   "source": [
    "import matplotlib.pyplot as plt\n",
    "\n",
    "episodes_sorted = episodes.sort_values('First Aired')\n",
    "\n",
    "plt.figure(figsize=(12, 6))\n",
    "plt.plot(episodes_sorted['First Aired'], episodes_sorted['Avg Viewership (in millions)'], marker='o')\n",
    "\n",
    "plt.title('Average Viewership Over Time')\n",
    "plt.xlabel('First Aired Date')\n",
    "plt.ylabel('Average Viewership (in millions)')\n",
    "\n",
    "plt.xticks(rotation=45)\n",
    "plt.tight_layout()  # Adjust the plot to ensure everything fits without overlapping\n",
    "plt.show()"
   ]
  },
  {
   "cell_type": "code",
   "execution_count": null,
   "metadata": {},
   "outputs": [],
   "source": []
  }
 ],
 "metadata": {
  "kernelspec": {
   "display_name": "Python 3",
   "language": "python",
   "name": "python3"
  },
  "language_info": {
   "codemirror_mode": {
    "name": "ipython",
    "version": 3
   },
   "file_extension": ".py",
   "mimetype": "text/x-python",
   "name": "python",
   "nbconvert_exporter": "python",
   "pygments_lexer": "ipython3",
   "version": "3.11.9"
  }
 },
 "nbformat": 4,
 "nbformat_minor": 2
}
